{
 "cells": [
  {
   "cell_type": "code",
   "execution_count": 1,
   "metadata": {},
   "outputs": [],
   "source": [
    "# for database connections\n",
    "from sqlalchemy import create_engine, inspect, text\n",
    "\n",
    "# data\n",
    "import pandas as pd\n",
    "\n",
    "# Postgres credentials\n",
    "import config as cfg"
   ]
  },
  {
   "cell_type": "code",
   "execution_count": 2,
   "metadata": {},
   "outputs": [],
   "source": [
    "# Setup the SQL connection variables\n",
    "SQL_USERNAME = cfg.SQL_USERNAME\n",
    "SQL_PASSWORD = cfg.SQL_PASSWORD\n",
    "SQL_IP = cfg.SQL_IP\n",
    "SQL_PORT = cfg.SQL_PORT\n",
    "DATABASE = cfg.DATABASE"
   ]
  },
  {
   "cell_type": "code",
   "execution_count": 3,
   "metadata": {},
   "outputs": [],
   "source": [
    "# Connect to PostgreSQL server\n",
    "connection_string = f'postgresql+psycopg2://{SQL_USERNAME}:{SQL_PASSWORD}@{SQL_IP}:{SQL_PORT}/{DATABASE}'\n",
    "engine = create_engine(connection_string)"
   ]
  },
  {
   "cell_type": "markdown",
   "metadata": {},
   "source": [
    "## upload campaign, category, subcategory and contact tables"
   ]
  },
  {
   "cell_type": "code",
   "execution_count": 6,
   "metadata": {},
   "outputs": [
    {
     "name": "stdout",
     "output_type": "stream",
     "text": [
      "['income', 'jobs', 'unemployment', 'employment']\n"
     ]
    }
   ],
   "source": [
    "# Check to see if the category and subcategory tables are in the database\n",
    "inspector = inspect(engine)\n",
    "print(inspector.get_table_names())"
   ]
  },
  {
   "cell_type": "code",
   "execution_count": 7,
   "metadata": {},
   "outputs": [
    {
     "name": "stdout",
     "output_type": "stream",
     "text": [
      "Table name: income\n",
      "fips VARCHAR(5)\n",
      "state VARCHAR(2)\n",
      "county VARCHAR(40)\n",
      "median_hh_inc_acs INTEGER\n",
      "percapita_inc INTEGER\n",
      "poverty_rate_0_17_acs NUMERIC\n",
      "poverty_rate_acs NUMERIC\n",
      "deep_pov_all NUMERIC\n",
      "deep_pov_children NUMERIC\n",
      "num_allinpov_acs INTEGER\n",
      "pct_pov_0_17 NUMERIC\n",
      "pov_0_17 INTEGER\n",
      "med_hh_inc INTEGER\n",
      "pov_all INTEGER\n",
      "pct_pov_all NUMERIC\n",
      "num_in_pov_0_17_acs INTEGER\n",
      "last_update TIMESTAMP\n",
      "\n",
      "Table name: jobs\n",
      "fips VARCHAR(5)\n",
      "state VARCHAR(2)\n",
      "county VARCHAR(40)\n",
      "pctemp_agriculture NUMERIC\n",
      "pctemp_mining NUMERIC\n",
      "pctemp_construction NUMERIC\n",
      "pctemp_manufacturing NUMERIC\n",
      "pctemp_trade NUMERIC\n",
      "pctemp_trans NUMERIC\n",
      "pctemp_information NUMERIC\n",
      "pctemp_fire NUMERIC\n",
      "pctemp_services NUMERIC\n",
      "pctemp_government NUMERIC\n",
      "num_civ_employed INTEGER\n",
      "last_update TIMESTAMP\n",
      "\n",
      "Table name: unemployment\n",
      "fips VARCHAR(5)\n",
      "year VARCHAR(4)\n",
      "unemp_rate NUMERIC\n",
      "num_unemployed INTEGER\n",
      "last_update TIMESTAMP\n",
      "\n",
      "Table name: employment\n",
      "fips VARCHAR(5)\n",
      "year VARCHAR(4)\n",
      "num_civ_labor_force INTEGER\n",
      "num_employed INTEGER\n",
      "last_update TIMESTAMP\n",
      "\n"
     ]
    }
   ],
   "source": [
    "# Display all the columns of the tables in PostgreSQL to make sure they have the correct columns prior to loading the data\n",
    "\n",
    "# Collect the names of tables within the database\n",
    "tables = inspector.get_table_names()\n",
    "\n",
    "# Using the inspector to print the column names within each table and its types\n",
    "for table in tables:\n",
    "    print(f\"Table name: {table}\")\n",
    "    columns = inspector.get_columns(table)\n",
    "    for column in columns:\n",
    "        print(column[\"name\"], column[\"type\"])\n",
    "        \n",
    "    print()"
   ]
  },
  {
   "cell_type": "code",
   "execution_count": null,
   "metadata": {},
   "outputs": [],
   "source": [
    "# Open category csv file and read it into a pandas dataframe\n",
    "income_df = pd.read_csv('DB_Input/income.csv')\n",
    "income_df.head()"
   ]
  },
  {
   "cell_type": "code",
   "execution_count": null,
   "metadata": {},
   "outputs": [],
   "source": [
    "# Open subcategory csv file and read it into a pandas dataframe\n",
    "employment_df = pd.read_csv('DB_Input/employment.csv')\n",
    "employment_df.head()"
   ]
  },
  {
   "cell_type": "code",
   "execution_count": null,
   "metadata": {},
   "outputs": [],
   "source": [
    "# Open contact csv file and read it into a pandas dataframe\n",
    "unemployment_df = pd.read_csv('DB_Input/unemployment.csv')\n",
    "unemployment_df.head()"
   ]
  },
  {
   "cell_type": "code",
   "execution_count": null,
   "metadata": {},
   "outputs": [],
   "source": [
    "# Open campaign csv file and read it into a pandas dataframe\n",
    "jobs_df = pd.read_csv('DB_Input/jobs.csv')\n",
    "jobs_df.head()"
   ]
  },
  {
   "cell_type": "code",
   "execution_count": null,
   "metadata": {},
   "outputs": [],
   "source": [
    "# If category table exists in the database, load the category data into the table\n",
    "if 'income' in inspector.get_table_names():\n",
    "    income_df.to_sql('income', schema='public', con=engine, index=False, if_exists='append', method='multi')"
   ]
  },
  {
   "cell_type": "code",
   "execution_count": null,
   "metadata": {},
   "outputs": [],
   "source": [
    "# If subcategory table exists in the database, load the subcategory data into the table\n",
    "if 'employment' in inspector.get_table_names():\n",
    "    subcategory_df.to_sql('employment', schema='public', con=engine, index=False, if_exists='append', method='multi')"
   ]
  },
  {
   "cell_type": "code",
   "execution_count": null,
   "metadata": {},
   "outputs": [],
   "source": [
    "# If contact table exists in the database, load the contact data into the table\n",
    "if 'unemployment' in inspector.get_table_names():\n",
    "    contact_df.to_sql('unemployment', schema='public', con=engine, index=False, if_exists='append', method='multi')"
   ]
  },
  {
   "cell_type": "code",
   "execution_count": null,
   "metadata": {},
   "outputs": [],
   "source": [
    "# If campaign table exists in the database, load the campaign data into the table\n",
    "if 'jobs' in inspector.get_table_names():\n",
    "    campaign_df.to_sql('jobs', schema='public', con=engine, index=False, if_exists='append', method='multi')"
   ]
  }
 ],
 "metadata": {
  "kernelspec": {
   "display_name": "Python 3 (ipykernel)",
   "language": "python",
   "name": "python3"
  },
  "language_info": {
   "codemirror_mode": {
    "name": "ipython",
    "version": 3
   },
   "file_extension": ".py",
   "mimetype": "text/x-python",
   "name": "python",
   "nbconvert_exporter": "python",
   "pygments_lexer": "ipython3",
   "version": "3.10.14"
  }
 },
 "nbformat": 4,
 "nbformat_minor": 4
}
