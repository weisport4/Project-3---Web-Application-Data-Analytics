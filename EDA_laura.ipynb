{
 "cells": [
  {
   "cell_type": "code",
   "execution_count": 1,
   "id": "97c247d9-00cf-43f1-a393-179aa02a7447",
   "metadata": {},
   "outputs": [],
   "source": [
    "# Import necessary libraries\n",
    "import pandas as pd\n",
    "import numpy as np\n",
    "import json\n",
    "import matplotlib.pyplot as plt\n",
    "import seaborn as sns\n",
    "import os"
   ]
  },
  {
   "cell_type": "code",
   "execution_count": 2,
   "id": "48c18224-2a82-4238-937d-d8f93e3af32a",
   "metadata": {},
   "outputs": [
    {
     "data": {
      "text/html": [
       "<div>\n",
       "<style scoped>\n",
       "    .dataframe tbody tr th:only-of-type {\n",
       "        vertical-align: middle;\n",
       "    }\n",
       "\n",
       "    .dataframe tbody tr th {\n",
       "        vertical-align: top;\n",
       "    }\n",
       "\n",
       "    .dataframe thead th {\n",
       "        text-align: right;\n",
       "    }\n",
       "</style>\n",
       "<table border=\"1\" class=\"dataframe\">\n",
       "  <thead>\n",
       "    <tr style=\"text-align: right;\">\n",
       "      <th></th>\n",
       "      <th>FIPS</th>\n",
       "      <th>State</th>\n",
       "      <th>County</th>\n",
       "      <th>UnempRate2020</th>\n",
       "      <th>PctEmpChange1920</th>\n",
       "      <th>UnempRate2019</th>\n",
       "      <th>PctEmpChange1819</th>\n",
       "      <th>UnempRate2018</th>\n",
       "      <th>UnempRate2017</th>\n",
       "      <th>UnempRate2016</th>\n",
       "      <th>...</th>\n",
       "      <th>NumUnemployed2015</th>\n",
       "      <th>NumUnemployed2014</th>\n",
       "      <th>NumEmployed2014</th>\n",
       "      <th>NumCivLaborforce2014</th>\n",
       "      <th>NumUnemployed2013</th>\n",
       "      <th>NumCivLaborforce2013</th>\n",
       "      <th>NumUnemployed2007</th>\n",
       "      <th>NumEmployed2007</th>\n",
       "      <th>NumCivLaborforce2007</th>\n",
       "      <th>NumCivLaborforce2017</th>\n",
       "    </tr>\n",
       "  </thead>\n",
       "  <tbody>\n",
       "    <tr>\n",
       "      <th>0</th>\n",
       "      <td>0</td>\n",
       "      <td>US</td>\n",
       "      <td>United States</td>\n",
       "      <td>8.1</td>\n",
       "      <td>-6.0</td>\n",
       "      <td>3.7</td>\n",
       "      <td>1.3</td>\n",
       "      <td>3.9</td>\n",
       "      <td>4.4</td>\n",
       "      <td>4.9</td>\n",
       "      <td>...</td>\n",
       "      <td>8285731.0</td>\n",
       "      <td>9617207.0</td>\n",
       "      <td>146318952.0</td>\n",
       "      <td>155936159.0</td>\n",
       "      <td>11457241.0</td>\n",
       "      <td>155362278.0</td>\n",
       "      <td>7034917.0</td>\n",
       "      <td>145156133.0</td>\n",
       "      <td>152191050.0</td>\n",
       "      <td>160214378.0</td>\n",
       "    </tr>\n",
       "    <tr>\n",
       "      <th>1</th>\n",
       "      <td>1000</td>\n",
       "      <td>AL</td>\n",
       "      <td>Alabama</td>\n",
       "      <td>5.9</td>\n",
       "      <td>-3.2</td>\n",
       "      <td>3.0</td>\n",
       "      <td>2.3</td>\n",
       "      <td>3.9</td>\n",
       "      <td>4.6</td>\n",
       "      <td>5.9</td>\n",
       "      <td>...</td>\n",
       "      <td>131852.0</td>\n",
       "      <td>146010.0</td>\n",
       "      <td>2018705.0</td>\n",
       "      <td>2164715.0</td>\n",
       "      <td>159274.0</td>\n",
       "      <td>2172102.0</td>\n",
       "      <td>88418.0</td>\n",
       "      <td>2092030.0</td>\n",
       "      <td>2180448.0</td>\n",
       "      <td>2172455.0</td>\n",
       "    </tr>\n",
       "    <tr>\n",
       "      <th>2</th>\n",
       "      <td>1001</td>\n",
       "      <td>AL</td>\n",
       "      <td>Autauga</td>\n",
       "      <td>4.9</td>\n",
       "      <td>-3.9</td>\n",
       "      <td>2.7</td>\n",
       "      <td>1.7</td>\n",
       "      <td>3.6</td>\n",
       "      <td>4.0</td>\n",
       "      <td>5.1</td>\n",
       "      <td>...</td>\n",
       "      <td>1335.0</td>\n",
       "      <td>1489.0</td>\n",
       "      <td>24150.0</td>\n",
       "      <td>25639.0</td>\n",
       "      <td>1628.0</td>\n",
       "      <td>25783.0</td>\n",
       "      <td>824.0</td>\n",
       "      <td>23610.0</td>\n",
       "      <td>24434.0</td>\n",
       "      <td>25898.0</td>\n",
       "    </tr>\n",
       "    <tr>\n",
       "      <th>3</th>\n",
       "      <td>1003</td>\n",
       "      <td>AL</td>\n",
       "      <td>Baldwin</td>\n",
       "      <td>5.6</td>\n",
       "      <td>-3.6</td>\n",
       "      <td>2.8</td>\n",
       "      <td>3.7</td>\n",
       "      <td>3.6</td>\n",
       "      <td>4.2</td>\n",
       "      <td>5.4</td>\n",
       "      <td>...</td>\n",
       "      <td>4874.0</td>\n",
       "      <td>5281.0</td>\n",
       "      <td>81265.0</td>\n",
       "      <td>86546.0</td>\n",
       "      <td>5740.0</td>\n",
       "      <td>85206.0</td>\n",
       "      <td>2616.0</td>\n",
       "      <td>80213.0</td>\n",
       "      <td>82829.0</td>\n",
       "      <td>91838.0</td>\n",
       "    </tr>\n",
       "    <tr>\n",
       "      <th>4</th>\n",
       "      <td>1005</td>\n",
       "      <td>AL</td>\n",
       "      <td>Barbour</td>\n",
       "      <td>7.0</td>\n",
       "      <td>-2.4</td>\n",
       "      <td>3.8</td>\n",
       "      <td>2.9</td>\n",
       "      <td>5.1</td>\n",
       "      <td>6.0</td>\n",
       "      <td>8.4</td>\n",
       "      <td>...</td>\n",
       "      <td>767.0</td>\n",
       "      <td>929.0</td>\n",
       "      <td>7930.0</td>\n",
       "      <td>8859.0</td>\n",
       "      <td>944.0</td>\n",
       "      <td>9096.0</td>\n",
       "      <td>665.0</td>\n",
       "      <td>9698.0</td>\n",
       "      <td>10363.0</td>\n",
       "      <td>8298.0</td>\n",
       "    </tr>\n",
       "  </tbody>\n",
       "</table>\n",
       "<p>5 rows × 75 columns</p>\n",
       "</div>"
      ],
      "text/plain": [
       "   FIPS State         County  UnempRate2020  PctEmpChange1920  UnempRate2019  \\\n",
       "0     0    US  United States            8.1              -6.0            3.7   \n",
       "1  1000    AL        Alabama            5.9              -3.2            3.0   \n",
       "2  1001    AL        Autauga            4.9              -3.9            2.7   \n",
       "3  1003    AL        Baldwin            5.6              -3.6            2.8   \n",
       "4  1005    AL        Barbour            7.0              -2.4            3.8   \n",
       "\n",
       "   PctEmpChange1819  UnempRate2018  UnempRate2017  UnempRate2016  ...  \\\n",
       "0               1.3            3.9            4.4            4.9  ...   \n",
       "1               2.3            3.9            4.6            5.9  ...   \n",
       "2               1.7            3.6            4.0            5.1  ...   \n",
       "3               3.7            3.6            4.2            5.4  ...   \n",
       "4               2.9            5.1            6.0            8.4  ...   \n",
       "\n",
       "   NumUnemployed2015  NumUnemployed2014  NumEmployed2014  \\\n",
       "0          8285731.0          9617207.0      146318952.0   \n",
       "1           131852.0           146010.0        2018705.0   \n",
       "2             1335.0             1489.0          24150.0   \n",
       "3             4874.0             5281.0          81265.0   \n",
       "4              767.0              929.0           7930.0   \n",
       "\n",
       "   NumCivLaborforce2014  NumUnemployed2013  NumCivLaborforce2013  \\\n",
       "0           155936159.0         11457241.0           155362278.0   \n",
       "1             2164715.0           159274.0             2172102.0   \n",
       "2               25639.0             1628.0               25783.0   \n",
       "3               86546.0             5740.0               85206.0   \n",
       "4                8859.0              944.0                9096.0   \n",
       "\n",
       "   NumUnemployed2007  NumEmployed2007  NumCivLaborforce2007  \\\n",
       "0          7034917.0      145156133.0           152191050.0   \n",
       "1            88418.0        2092030.0             2180448.0   \n",
       "2              824.0          23610.0               24434.0   \n",
       "3             2616.0          80213.0               82829.0   \n",
       "4              665.0           9698.0               10363.0   \n",
       "\n",
       "   NumCivLaborforce2017  \n",
       "0           160214378.0  \n",
       "1             2172455.0  \n",
       "2               25898.0  \n",
       "3               91838.0  \n",
       "4                8298.0  \n",
       "\n",
       "[5 rows x 75 columns]"
      ]
     },
     "execution_count": 2,
     "metadata": {},
     "output_type": "execute_result"
    }
   ],
   "source": [
    "# Read the data into a Pandas DataFrame\n",
    "jobs_df = pd.read_csv('Resources/jobs.csv')\n",
    "jobs_df.head()"
   ]
  },
  {
   "cell_type": "code",
   "execution_count": 3,
   "id": "133be9ad-ec88-48f7-b940-008477806762",
   "metadata": {},
   "outputs": [
    {
     "name": "stdout",
     "output_type": "stream",
     "text": [
      "<class 'pandas.core.frame.DataFrame'>\n",
      "RangeIndex: 3278 entries, 0 to 3277\n",
      "Data columns (total 16 columns):\n",
      " #   Column                 Non-Null Count  Dtype  \n",
      "---  ------                 --------------  -----  \n",
      " 0   FIPS                   3278 non-null   int64  \n",
      " 1   State                  3278 non-null   object \n",
      " 2   County                 3278 non-null   object \n",
      " 3   Median_HH_Inc_ACS      3273 non-null   float64\n",
      " 4   PerCapitaInc           3273 non-null   float64\n",
      " 5   Poverty_Rate_0_17_ACS  3272 non-null   float64\n",
      " 6   Poverty_Rate_ACS       3273 non-null   float64\n",
      " 7   Deep_Pov_All           3273 non-null   float64\n",
      " 8   Deep_Pov_Children      3273 non-null   float64\n",
      " 9   NumAll_inPOV_ACS       3273 non-null   float64\n",
      " 10  PCTPOV017              3193 non-null   float64\n",
      " 11  POV017                 3193 non-null   float64\n",
      " 12  MedHHInc               3193 non-null   float64\n",
      " 13  POVALL                 3193 non-null   float64\n",
      " 14  PCTPOVALL              3193 non-null   float64\n",
      " 15  Num_inPOV_0_17_ACS     3273 non-null   float64\n",
      "dtypes: float64(13), int64(1), object(2)\n",
      "memory usage: 409.9+ KB\n"
     ]
    }
   ],
   "source": [
    "# Read the data into a Pandas DataFrame\n",
    "income_df = pd.read_csv('Resources/income.csv')\n",
    "income_df.info()"
   ]
  },
  {
   "cell_type": "code",
   "execution_count": 4,
   "id": "03ed506b-0375-4e38-9725-fe495f0909e1",
   "metadata": {},
   "outputs": [
    {
     "name": "stdout",
     "output_type": "stream",
     "text": [
      "<class 'pandas.core.frame.DataFrame'>\n",
      "RangeIndex: 3278 entries, 0 to 3277\n",
      "Data columns (total 75 columns):\n",
      " #   Column                Non-Null Count  Dtype  \n",
      "---  ------                --------------  -----  \n",
      " 0   FIPS                  3278 non-null   int64  \n",
      " 1   State                 3278 non-null   object \n",
      " 2   County                3278 non-null   object \n",
      " 3   UnempRate2020         3193 non-null   float64\n",
      " 4   PctEmpChange1920      3193 non-null   float64\n",
      " 5   UnempRate2019         3272 non-null   float64\n",
      " 6   PctEmpChange1819      3272 non-null   float64\n",
      " 7   UnempRate2018         3272 non-null   float64\n",
      " 8   UnempRate2017         3272 non-null   float64\n",
      " 9   UnempRate2016         3272 non-null   float64\n",
      " 10  UnempRate2015         3272 non-null   float64\n",
      " 11  UnempRate2014         3272 non-null   float64\n",
      " 12  UnempRate2010         3272 non-null   float64\n",
      " 13  UnempRate2007         3270 non-null   float64\n",
      " 14  PctEmpChange1020      3193 non-null   float64\n",
      " 15  PctEmpChange0720      3188 non-null   float64\n",
      " 16  PctEmpChange0710      3267 non-null   float64\n",
      " 17  PctEmpAgriculture     3273 non-null   float64\n",
      " 18  PctEmpMining          3273 non-null   float64\n",
      " 19  PctEmpConstruction    3273 non-null   float64\n",
      " 20  PctEmpManufacturing   3273 non-null   float64\n",
      " 21  PctEmpTrade           3273 non-null   float64\n",
      " 22  PctEmpTrans           3273 non-null   float64\n",
      " 23  PctEmpInformation     3273 non-null   float64\n",
      " 24  PctEmpFIRE            3273 non-null   float64\n",
      " 25  PctEmpServices        3273 non-null   float64\n",
      " 26  PctEmpGovt            3273 non-null   float64\n",
      " 27  NumCivEmployed        3273 non-null   float64\n",
      " 28  NumCivLaborForce2012  3272 non-null   float64\n",
      " 29  NumUnemployed2011     3272 non-null   float64\n",
      " 30  UnempRate2012         3272 non-null   float64\n",
      " 31  NumEmployed2011       3272 non-null   float64\n",
      " 32  NumEmployed2012       3272 non-null   float64\n",
      " 33  NumCivLaborForce2011  3272 non-null   float64\n",
      " 34  UnempRate2011         3272 non-null   float64\n",
      " 35  NumUnemployed2010     3272 non-null   float64\n",
      " 36  NumEmployed2010       3272 non-null   float64\n",
      " 37  NumCivLaborForce2010  3272 non-null   float64\n",
      " 38  NumUnemployed2009     3270 non-null   float64\n",
      " 39  NumEmployed2009       3270 non-null   float64\n",
      " 40  NumCivLaborForce2009  3270 non-null   float64\n",
      " 41  NumUnemployed2008     3270 non-null   float64\n",
      " 42  UnempRate2013         3272 non-null   float64\n",
      " 43  NumEmployed2008       3270 non-null   float64\n",
      " 44  NumCivLaborForce2008  3270 non-null   float64\n",
      " 45  UnempRate2009         3270 non-null   float64\n",
      " 46  UnempRate2008         3270 non-null   float64\n",
      " 47  NumEmployed2016       3272 non-null   float64\n",
      " 48  NumEmployed2020       3193 non-null   float64\n",
      " 49  NumCivLaborforce2020  3193 non-null   float64\n",
      " 50  NumUnemployed2020     3193 non-null   float64\n",
      " 51  NumEmployed2019       3272 non-null   float64\n",
      " 52  NumUnemployed2019     3272 non-null   float64\n",
      " 53  NumCivLaborforce2019  3272 non-null   float64\n",
      " 54  NumUnemployed2018     3272 non-null   float64\n",
      " 55  NumEmployed2018       3272 non-null   float64\n",
      " 56  NumCivLaborforce2018  3272 non-null   float64\n",
      " 57  NumUnemployed2017     3272 non-null   float64\n",
      " 58  NumEmployed2017       3272 non-null   float64\n",
      " 59  NumEmployed2013       3272 non-null   float64\n",
      " 60  NumUnemployed2016     3272 non-null   float64\n",
      " 61  NumUnemployed2012     3272 non-null   float64\n",
      " 62  NumCivLaborforce2016  3272 non-null   float64\n",
      " 63  NumCivLaborforce2015  3272 non-null   float64\n",
      " 64  NumEmployed2015       3272 non-null   float64\n",
      " 65  NumUnemployed2015     3272 non-null   float64\n",
      " 66  NumUnemployed2014     3272 non-null   float64\n",
      " 67  NumEmployed2014       3272 non-null   float64\n",
      " 68  NumCivLaborforce2014  3272 non-null   float64\n",
      " 69  NumUnemployed2013     3272 non-null   float64\n",
      " 70  NumCivLaborforce2013  3272 non-null   float64\n",
      " 71  NumUnemployed2007     3270 non-null   float64\n",
      " 72  NumEmployed2007       3270 non-null   float64\n",
      " 73  NumCivLaborforce2007  3270 non-null   float64\n",
      " 74  NumCivLaborforce2017  3272 non-null   float64\n",
      "dtypes: float64(72), int64(1), object(2)\n",
      "memory usage: 1.9+ MB\n"
     ]
    }
   ],
   "source": [
    "# Get a brief summary of the crowdfunding_info DataFrame.\n",
    "jobs_df.info()"
   ]
  },
  {
   "cell_type": "code",
   "execution_count": 5,
   "id": "39b1ccf7-c8dd-49c7-9a03-6dab4d5570fa",
   "metadata": {},
   "outputs": [
    {
     "data": {
      "text/plain": [
       "FIPS                     0\n",
       "State                    0\n",
       "County                   0\n",
       "UnempRate2020           85\n",
       "PctEmpChange1920        85\n",
       "                        ..\n",
       "NumCivLaborforce2013     6\n",
       "NumUnemployed2007        8\n",
       "NumEmployed2007          8\n",
       "NumCivLaborforce2007     8\n",
       "NumCivLaborforce2017     6\n",
       "Length: 75, dtype: int64"
      ]
     },
     "execution_count": 5,
     "metadata": {},
     "output_type": "execute_result"
    }
   ],
   "source": [
    "# Check for missing values:\n",
    "jobs_df.isnull().sum()"
   ]
  },
  {
   "cell_type": "code",
   "execution_count": 6,
   "id": "ac93dec6-9b8c-4b12-8aa6-badaa84aa916",
   "metadata": {},
   "outputs": [
    {
     "data": {
      "text/plain": [
       "FIPS                    0\n",
       "State                   0\n",
       "County                  0\n",
       "UnempRate2020           0\n",
       "PctEmpChange1920        0\n",
       "                       ..\n",
       "NumCivLaborforce2013    0\n",
       "NumUnemployed2007       0\n",
       "NumEmployed2007         0\n",
       "NumCivLaborforce2007    0\n",
       "NumCivLaborforce2017    0\n",
       "Length: 75, dtype: int64"
      ]
     },
     "execution_count": 6,
     "metadata": {},
     "output_type": "execute_result"
    }
   ],
   "source": [
    "# Replacing null values with zeros\n",
    "jobs_df = jobs_df.fillna(0)\n",
    "jobs_df.isnull().sum()"
   ]
  },
  {
   "cell_type": "code",
   "execution_count": 7,
   "id": "d04b1f1e-2fbf-434e-bbf6-cb73eb710f7e",
   "metadata": {},
   "outputs": [
    {
     "data": {
      "text/plain": [
       "FIPS                      0\n",
       "State                     0\n",
       "County                    0\n",
       "Median_HH_Inc_ACS         5\n",
       "PerCapitaInc              5\n",
       "Poverty_Rate_0_17_ACS     6\n",
       "Poverty_Rate_ACS          5\n",
       "Deep_Pov_All              5\n",
       "Deep_Pov_Children         5\n",
       "NumAll_inPOV_ACS          5\n",
       "PCTPOV017                85\n",
       "POV017                   85\n",
       "MedHHInc                 85\n",
       "POVALL                   85\n",
       "PCTPOVALL                85\n",
       "Num_inPOV_0_17_ACS        5\n",
       "dtype: int64"
      ]
     },
     "execution_count": 7,
     "metadata": {},
     "output_type": "execute_result"
    }
   ],
   "source": [
    "# Nulls in 'income.csv'?\n",
    "income_df.isnull().sum()"
   ]
  },
  {
   "cell_type": "code",
   "execution_count": 8,
   "id": "16020fc7-0c39-4e95-9667-dd4b5673e38b",
   "metadata": {},
   "outputs": [
    {
     "data": {
      "text/plain": [
       "FIPS                     0\n",
       "State                    0\n",
       "County                   0\n",
       "Median_HH_Inc_ACS        0\n",
       "PerCapitaInc             0\n",
       "Poverty_Rate_0_17_ACS    0\n",
       "Poverty_Rate_ACS         0\n",
       "Deep_Pov_All             0\n",
       "Deep_Pov_Children        0\n",
       "NumAll_inPOV_ACS         0\n",
       "PCTPOV017                0\n",
       "POV017                   0\n",
       "MedHHInc                 0\n",
       "POVALL                   0\n",
       "PCTPOVALL                0\n",
       "Num_inPOV_0_17_ACS       0\n",
       "dtype: int64"
      ]
     },
     "execution_count": 8,
     "metadata": {},
     "output_type": "execute_result"
    }
   ],
   "source": [
    "# Replacing null values with zeros\n",
    "income_cleaned_df = income_df.fillna(0)\n",
    "income_cleaned_df.isnull().sum()"
   ]
  },
  {
   "cell_type": "code",
   "execution_count": null,
   "id": "bd84f0b2-0dc7-4366-acc6-d0c12cd121dd",
   "metadata": {},
   "outputs": [],
   "source": [
    "# jobs_cleaned_df = economic_atlas_rural_america_df.drop(columns=['PctEmpChange1920', 'PctEmpChange1819', 'PctEmpChange1020', 'PctEmpChange0720', 'PctEmpChange0710'])\n",
    "# jobs_cleaned_df"
   ]
  },
  {
   "cell_type": "code",
   "execution_count": 9,
   "id": "0718703d-4432-4e55-8c6e-d369c06c5e0c",
   "metadata": {},
   "outputs": [
    {
     "name": "stdout",
     "output_type": "stream",
     "text": [
      "Data was saved to 'Resources/income_cleaned.csv'.\n"
     ]
    }
   ],
   "source": [
    "# Save the DataFrame to a CSV file and Export\n",
    "income_cleaned = 'Resources/income_cleaned.csv'\n",
    "income_cleaned_df.to_csv(income_cleaned, index=False)\n",
    "print(f\"Data was saved to '{income_cleaned}'.\")"
   ]
  },
  {
   "cell_type": "code",
   "execution_count": 11,
   "id": "9ffc5ee9-c73b-4646-9336-9d462a86cb99",
   "metadata": {},
   "outputs": [
    {
     "data": {
      "text/html": [
       "<div>\n",
       "<style scoped>\n",
       "    .dataframe tbody tr th:only-of-type {\n",
       "        vertical-align: middle;\n",
       "    }\n",
       "\n",
       "    .dataframe tbody tr th {\n",
       "        vertical-align: top;\n",
       "    }\n",
       "\n",
       "    .dataframe thead th {\n",
       "        text-align: right;\n",
       "    }\n",
       "</style>\n",
       "<table border=\"1\" class=\"dataframe\">\n",
       "  <thead>\n",
       "    <tr style=\"text-align: right;\">\n",
       "      <th></th>\n",
       "      <th>FIPS</th>\n",
       "      <th>State</th>\n",
       "      <th>County</th>\n",
       "      <th>PctEmpAgriculture</th>\n",
       "      <th>PctEmpMining</th>\n",
       "      <th>PctEmpConstruction</th>\n",
       "      <th>PctEmpManufacturing</th>\n",
       "      <th>PctEmpTrade</th>\n",
       "      <th>PctEmpTrans</th>\n",
       "      <th>PctEmpInformation</th>\n",
       "      <th>PctEmpFIRE</th>\n",
       "      <th>PctEmpServices</th>\n",
       "      <th>PctEmpGovt</th>\n",
       "      <th>NumCivEmployed</th>\n",
       "    </tr>\n",
       "  </thead>\n",
       "  <tbody>\n",
       "    <tr>\n",
       "      <th>0</th>\n",
       "      <td>0</td>\n",
       "      <td>US</td>\n",
       "      <td>United States</td>\n",
       "      <td>1.259202</td>\n",
       "      <td>0.512723</td>\n",
       "      <td>6.592262</td>\n",
       "      <td>10.108008</td>\n",
       "      <td>13.745334</td>\n",
       "      <td>5.363914</td>\n",
       "      <td>2.011223</td>\n",
       "      <td>6.555840</td>\n",
       "      <td>49.244129</td>\n",
       "      <td>4.607366</td>\n",
       "      <td>154842185.0</td>\n",
       "    </tr>\n",
       "    <tr>\n",
       "      <th>1</th>\n",
       "      <td>1000</td>\n",
       "      <td>AL</td>\n",
       "      <td>Alabama</td>\n",
       "      <td>0.993190</td>\n",
       "      <td>0.398210</td>\n",
       "      <td>6.604990</td>\n",
       "      <td>14.332569</td>\n",
       "      <td>14.083735</td>\n",
       "      <td>5.454652</td>\n",
       "      <td>1.519607</td>\n",
       "      <td>5.523166</td>\n",
       "      <td>45.678045</td>\n",
       "      <td>5.411837</td>\n",
       "      <td>2097384.0</td>\n",
       "    </tr>\n",
       "    <tr>\n",
       "      <th>2</th>\n",
       "      <td>1001</td>\n",
       "      <td>AL</td>\n",
       "      <td>Autauga</td>\n",
       "      <td>0.517902</td>\n",
       "      <td>0.354783</td>\n",
       "      <td>6.072099</td>\n",
       "      <td>12.951635</td>\n",
       "      <td>12.445967</td>\n",
       "      <td>6.797977</td>\n",
       "      <td>1.362042</td>\n",
       "      <td>5.978305</td>\n",
       "      <td>44.082864</td>\n",
       "      <td>9.436424</td>\n",
       "      <td>24522.0</td>\n",
       "    </tr>\n",
       "    <tr>\n",
       "      <th>3</th>\n",
       "      <td>1003</td>\n",
       "      <td>AL</td>\n",
       "      <td>Baldwin</td>\n",
       "      <td>0.952772</td>\n",
       "      <td>0.257648</td>\n",
       "      <td>8.585460</td>\n",
       "      <td>9.249035</td>\n",
       "      <td>16.477900</td>\n",
       "      <td>5.003628</td>\n",
       "      <td>1.525907</td>\n",
       "      <td>7.520165</td>\n",
       "      <td>45.203016</td>\n",
       "      <td>5.224469</td>\n",
       "      <td>95091.0</td>\n",
       "    </tr>\n",
       "    <tr>\n",
       "      <th>4</th>\n",
       "      <td>1005</td>\n",
       "      <td>AL</td>\n",
       "      <td>Barbour</td>\n",
       "      <td>5.717342</td>\n",
       "      <td>0.000000</td>\n",
       "      <td>6.810888</td>\n",
       "      <td>23.047664</td>\n",
       "      <td>12.813503</td>\n",
       "      <td>6.632592</td>\n",
       "      <td>0.606205</td>\n",
       "      <td>3.720433</td>\n",
       "      <td>33.638417</td>\n",
       "      <td>7.012956</td>\n",
       "      <td>8413.0</td>\n",
       "    </tr>\n",
       "  </tbody>\n",
       "</table>\n",
       "</div>"
      ],
      "text/plain": [
       "   FIPS State         County  PctEmpAgriculture  PctEmpMining  \\\n",
       "0     0    US  United States           1.259202      0.512723   \n",
       "1  1000    AL        Alabama           0.993190      0.398210   \n",
       "2  1001    AL        Autauga           0.517902      0.354783   \n",
       "3  1003    AL        Baldwin           0.952772      0.257648   \n",
       "4  1005    AL        Barbour           5.717342      0.000000   \n",
       "\n",
       "   PctEmpConstruction  PctEmpManufacturing  PctEmpTrade  PctEmpTrans  \\\n",
       "0            6.592262            10.108008    13.745334     5.363914   \n",
       "1            6.604990            14.332569    14.083735     5.454652   \n",
       "2            6.072099            12.951635    12.445967     6.797977   \n",
       "3            8.585460             9.249035    16.477900     5.003628   \n",
       "4            6.810888            23.047664    12.813503     6.632592   \n",
       "\n",
       "   PctEmpInformation  PctEmpFIRE  PctEmpServices  PctEmpGovt  NumCivEmployed  \n",
       "0           2.011223    6.555840       49.244129    4.607366     154842185.0  \n",
       "1           1.519607    5.523166       45.678045    5.411837       2097384.0  \n",
       "2           1.362042    5.978305       44.082864    9.436424         24522.0  \n",
       "3           1.525907    7.520165       45.203016    5.224469         95091.0  \n",
       "4           0.606205    3.720433       33.638417    7.012956          8413.0  "
      ]
     },
     "execution_count": 11,
     "metadata": {},
     "output_type": "execute_result"
    }
   ],
   "source": [
    "jobs_cleaned_df = jobs_df[['FIPS', 'State', 'County', 'PctEmpAgriculture', 'PctEmpMining', 'PctEmpConstruction', 'PctEmpManufacturing', 'PctEmpTrade', 'PctEmpTrans', 'PctEmpInformation', 'PctEmpFIRE', 'PctEmpServices', 'PctEmpGovt', 'NumCivEmployed']]\n",
    "jobs_cleaned_df.head()"
   ]
  },
  {
   "cell_type": "code",
   "execution_count": 12,
   "id": "9227cccd-1195-44b7-a4c3-b7234aa4ccd1",
   "metadata": {},
   "outputs": [
    {
     "data": {
      "text/plain": [
       "FIPS                   0\n",
       "State                  0\n",
       "County                 0\n",
       "PctEmpAgriculture      0\n",
       "PctEmpMining           0\n",
       "PctEmpConstruction     0\n",
       "PctEmpManufacturing    0\n",
       "PctEmpTrade            0\n",
       "PctEmpTrans            0\n",
       "PctEmpInformation      0\n",
       "PctEmpFIRE             0\n",
       "PctEmpServices         0\n",
       "PctEmpGovt             0\n",
       "NumCivEmployed         0\n",
       "dtype: int64"
      ]
     },
     "execution_count": 12,
     "metadata": {},
     "output_type": "execute_result"
    }
   ],
   "source": [
    "# Replacing null values with zeros\n",
    "jobs_cleaned_df = jobs_cleaned_df.fillna(0)\n",
    "jobs_cleaned_df.isnull().sum()"
   ]
  },
  {
   "cell_type": "code",
   "execution_count": 13,
   "id": "23935abc-e0dc-4bfa-b461-3f65489f0551",
   "metadata": {},
   "outputs": [
    {
     "name": "stdout",
     "output_type": "stream",
     "text": [
      "Data was saved to 'Resources/jobs_cleaned.csv'.\n"
     ]
    }
   ],
   "source": [
    "# Save the DataFrame to a CSV file and Export\n",
    "jobs_cleaned = 'Resources/jobs_cleaned.csv'\n",
    "jobs_cleaned_df.to_csv(jobs_cleaned, index=False)\n",
    "print(f\"Data was saved to '{jobs_cleaned}'.\")"
   ]
  },
  {
   "cell_type": "code",
   "execution_count": 15,
   "id": "162ba72f-ef08-4f24-adcc-5bbb6d7dc54a",
   "metadata": {},
   "outputs": [
    {
     "ename": "KeyError",
     "evalue": "\"The following id_vars or value_vars are not present in the DataFrame: ['UnempRate2020', 'UnempRate2019', 'UnempRate2018', 'UnempRate2017', 'UnempRate2016', 'UnempRate2015', 'UnempRate2014', 'UnempRate2013', 'UnempRate2012', 'UnempRate2011', 'UnempRate2010', 'UnempRate2009', 'UnempRate2008', 'UnempRate2007']\"",
     "output_type": "error",
     "traceback": [
      "\u001b[0;31m---------------------------------------------------------------------------\u001b[0m",
      "\u001b[0;31mKeyError\u001b[0m                                  Traceback (most recent call last)",
      "Cell \u001b[0;32mIn[15], line 4\u001b[0m\n\u001b[1;32m      1\u001b[0m df \u001b[38;5;241m=\u001b[39m pd\u001b[38;5;241m.\u001b[39mDataFrame(jobs_cleaned_df)\n\u001b[1;32m      3\u001b[0m \u001b[38;5;66;03m# Melt the DataFrame to get the desired format\u001b[39;00m\n\u001b[0;32m----> 4\u001b[0m df_melted \u001b[38;5;241m=\u001b[39m \u001b[43mdf\u001b[49m\u001b[38;5;241;43m.\u001b[39;49m\u001b[43mmelt\u001b[49m\u001b[43m(\u001b[49m\u001b[43mid_vars\u001b[49m\u001b[38;5;241;43m=\u001b[39;49m\u001b[43m[\u001b[49m\u001b[38;5;124;43m'\u001b[39;49m\u001b[38;5;124;43mFIPS\u001b[39;49m\u001b[38;5;124;43m'\u001b[39;49m\u001b[43m,\u001b[49m\u001b[43m \u001b[49m\u001b[38;5;124;43m'\u001b[39;49m\u001b[38;5;124;43mState\u001b[39;49m\u001b[38;5;124;43m'\u001b[39;49m\u001b[43m,\u001b[49m\u001b[43m \u001b[49m\u001b[38;5;124;43m'\u001b[39;49m\u001b[38;5;124;43mCounty\u001b[39;49m\u001b[38;5;124;43m'\u001b[39;49m\u001b[43m]\u001b[49m\u001b[43m,\u001b[49m\n\u001b[1;32m      5\u001b[0m \u001b[43m                   \u001b[49m\u001b[43mvalue_vars\u001b[49m\u001b[38;5;241;43m=\u001b[39;49m\u001b[43m[\u001b[49m\u001b[38;5;124;43m'\u001b[39;49m\u001b[38;5;124;43mUnempRate2020\u001b[39;49m\u001b[38;5;124;43m'\u001b[39;49m\u001b[43m,\u001b[49m\u001b[43m \u001b[49m\u001b[38;5;124;43m'\u001b[39;49m\u001b[38;5;124;43mUnempRate2019\u001b[39;49m\u001b[38;5;124;43m'\u001b[39;49m\u001b[43m,\u001b[49m\u001b[43m \u001b[49m\u001b[38;5;124;43m'\u001b[39;49m\u001b[38;5;124;43mUnempRate2018\u001b[39;49m\u001b[38;5;124;43m'\u001b[39;49m\u001b[43m,\u001b[49m\u001b[43m \u001b[49m\u001b[38;5;124;43m'\u001b[39;49m\u001b[38;5;124;43mUnempRate2017\u001b[39;49m\u001b[38;5;124;43m'\u001b[39;49m\u001b[43m,\u001b[49m\u001b[43m \u001b[49m\u001b[38;5;124;43m'\u001b[39;49m\u001b[38;5;124;43mUnempRate2016\u001b[39;49m\u001b[38;5;124;43m'\u001b[39;49m\u001b[43m,\u001b[49m\u001b[43m \u001b[49m\u001b[38;5;124;43m'\u001b[39;49m\u001b[38;5;124;43mUnempRate2015\u001b[39;49m\u001b[38;5;124;43m'\u001b[39;49m\u001b[43m,\u001b[49m\u001b[43m \u001b[49m\u001b[38;5;124;43m'\u001b[39;49m\u001b[38;5;124;43mUnempRate2014\u001b[39;49m\u001b[38;5;124;43m'\u001b[39;49m\u001b[43m,\u001b[49m\u001b[43m \u001b[49m\u001b[38;5;124;43m'\u001b[39;49m\u001b[38;5;124;43mUnempRate2013\u001b[39;49m\u001b[38;5;124;43m'\u001b[39;49m\u001b[43m,\u001b[49m\u001b[43m \u001b[49m\u001b[38;5;124;43m'\u001b[39;49m\u001b[38;5;124;43mUnempRate2012\u001b[39;49m\u001b[38;5;124;43m'\u001b[39;49m\u001b[43m,\u001b[49m\u001b[43m \u001b[49m\u001b[38;5;124;43m'\u001b[39;49m\u001b[38;5;124;43mUnempRate2011\u001b[39;49m\u001b[38;5;124;43m'\u001b[39;49m\u001b[43m,\u001b[49m\u001b[43m \u001b[49m\u001b[38;5;124;43m'\u001b[39;49m\u001b[38;5;124;43mUnempRate2010\u001b[39;49m\u001b[38;5;124;43m'\u001b[39;49m\u001b[43m,\u001b[49m\u001b[43m \u001b[49m\u001b[38;5;124;43m'\u001b[39;49m\u001b[38;5;124;43mUnempRate2009\u001b[39;49m\u001b[38;5;124;43m'\u001b[39;49m\u001b[43m,\u001b[49m\u001b[43m \u001b[49m\u001b[38;5;124;43m'\u001b[39;49m\u001b[38;5;124;43mUnempRate2008\u001b[39;49m\u001b[38;5;124;43m'\u001b[39;49m\u001b[43m,\u001b[49m\u001b[43m \u001b[49m\u001b[38;5;124;43m'\u001b[39;49m\u001b[38;5;124;43mUnempRate2007\u001b[39;49m\u001b[38;5;124;43m'\u001b[39;49m\u001b[43m]\u001b[49m\u001b[43m,\u001b[49m\n\u001b[1;32m      6\u001b[0m \u001b[43m                   \u001b[49m\u001b[43mvar_name\u001b[49m\u001b[38;5;241;43m=\u001b[39;49m\u001b[38;5;124;43m'\u001b[39;49m\u001b[38;5;124;43mYEAR\u001b[39;49m\u001b[38;5;124;43m'\u001b[39;49m\u001b[43m,\u001b[49m\u001b[43m \u001b[49m\u001b[43mvalue_name\u001b[49m\u001b[38;5;241;43m=\u001b[39;49m\u001b[38;5;124;43m'\u001b[39;49m\u001b[38;5;124;43mUNEMPRATE\u001b[39;49m\u001b[38;5;124;43m'\u001b[39;49m\u001b[43m)\u001b[49m\n\u001b[1;32m      7\u001b[0m \u001b[38;5;66;03m# Map the 'YEAR' column to the actual years\u001b[39;00m\n\u001b[1;32m      8\u001b[0m df_melted[\u001b[38;5;124m'\u001b[39m\u001b[38;5;124mYEAR\u001b[39m\u001b[38;5;124m'\u001b[39m] \u001b[38;5;241m=\u001b[39m df_melted[\u001b[38;5;124m'\u001b[39m\u001b[38;5;124mYEAR\u001b[39m\u001b[38;5;124m'\u001b[39m]\u001b[38;5;241m.\u001b[39mstr\u001b[38;5;241m.\u001b[39mreplace(\u001b[38;5;124m'\u001b[39m\u001b[38;5;124mUnempRate\u001b[39m\u001b[38;5;124m'\u001b[39m, \u001b[38;5;124m'\u001b[39m\u001b[38;5;124m'\u001b[39m)\n",
      "File \u001b[0;32m/opt/anaconda3/envs/dev/lib/python3.10/site-packages/pandas/core/frame.py:9929\u001b[0m, in \u001b[0;36mDataFrame.melt\u001b[0;34m(self, id_vars, value_vars, var_name, value_name, col_level, ignore_index)\u001b[0m\n\u001b[1;32m   9919\u001b[0m \u001b[38;5;129m@Appender\u001b[39m(_shared_docs[\u001b[38;5;124m\"\u001b[39m\u001b[38;5;124mmelt\u001b[39m\u001b[38;5;124m\"\u001b[39m] \u001b[38;5;241m%\u001b[39m {\u001b[38;5;124m\"\u001b[39m\u001b[38;5;124mcaller\u001b[39m\u001b[38;5;124m\"\u001b[39m: \u001b[38;5;124m\"\u001b[39m\u001b[38;5;124mdf.melt(\u001b[39m\u001b[38;5;124m\"\u001b[39m, \u001b[38;5;124m\"\u001b[39m\u001b[38;5;124mother\u001b[39m\u001b[38;5;124m\"\u001b[39m: \u001b[38;5;124m\"\u001b[39m\u001b[38;5;124mmelt\u001b[39m\u001b[38;5;124m\"\u001b[39m})\n\u001b[1;32m   9920\u001b[0m \u001b[38;5;28;01mdef\u001b[39;00m \u001b[38;5;21mmelt\u001b[39m(\n\u001b[1;32m   9921\u001b[0m     \u001b[38;5;28mself\u001b[39m,\n\u001b[0;32m   (...)\u001b[0m\n\u001b[1;32m   9927\u001b[0m     ignore_index: \u001b[38;5;28mbool\u001b[39m \u001b[38;5;241m=\u001b[39m \u001b[38;5;28;01mTrue\u001b[39;00m,\n\u001b[1;32m   9928\u001b[0m ) \u001b[38;5;241m-\u001b[39m\u001b[38;5;241m>\u001b[39m DataFrame:\n\u001b[0;32m-> 9929\u001b[0m     \u001b[38;5;28;01mreturn\u001b[39;00m \u001b[43mmelt\u001b[49m\u001b[43m(\u001b[49m\n\u001b[1;32m   9930\u001b[0m \u001b[43m        \u001b[49m\u001b[38;5;28;43mself\u001b[39;49m\u001b[43m,\u001b[49m\n\u001b[1;32m   9931\u001b[0m \u001b[43m        \u001b[49m\u001b[43mid_vars\u001b[49m\u001b[38;5;241;43m=\u001b[39;49m\u001b[43mid_vars\u001b[49m\u001b[43m,\u001b[49m\n\u001b[1;32m   9932\u001b[0m \u001b[43m        \u001b[49m\u001b[43mvalue_vars\u001b[49m\u001b[38;5;241;43m=\u001b[39;49m\u001b[43mvalue_vars\u001b[49m\u001b[43m,\u001b[49m\n\u001b[1;32m   9933\u001b[0m \u001b[43m        \u001b[49m\u001b[43mvar_name\u001b[49m\u001b[38;5;241;43m=\u001b[39;49m\u001b[43mvar_name\u001b[49m\u001b[43m,\u001b[49m\n\u001b[1;32m   9934\u001b[0m \u001b[43m        \u001b[49m\u001b[43mvalue_name\u001b[49m\u001b[38;5;241;43m=\u001b[39;49m\u001b[43mvalue_name\u001b[49m\u001b[43m,\u001b[49m\n\u001b[1;32m   9935\u001b[0m \u001b[43m        \u001b[49m\u001b[43mcol_level\u001b[49m\u001b[38;5;241;43m=\u001b[39;49m\u001b[43mcol_level\u001b[49m\u001b[43m,\u001b[49m\n\u001b[1;32m   9936\u001b[0m \u001b[43m        \u001b[49m\u001b[43mignore_index\u001b[49m\u001b[38;5;241;43m=\u001b[39;49m\u001b[43mignore_index\u001b[49m\u001b[43m,\u001b[49m\n\u001b[1;32m   9937\u001b[0m \u001b[43m    \u001b[49m\u001b[43m)\u001b[49m\u001b[38;5;241m.\u001b[39m__finalize__(\u001b[38;5;28mself\u001b[39m, method\u001b[38;5;241m=\u001b[39m\u001b[38;5;124m\"\u001b[39m\u001b[38;5;124mmelt\u001b[39m\u001b[38;5;124m\"\u001b[39m)\n",
      "File \u001b[0;32m/opt/anaconda3/envs/dev/lib/python3.10/site-packages/pandas/core/reshape/melt.py:74\u001b[0m, in \u001b[0;36mmelt\u001b[0;34m(frame, id_vars, value_vars, var_name, value_name, col_level, ignore_index)\u001b[0m\n\u001b[1;32m     70\u001b[0m \u001b[38;5;28;01mif\u001b[39;00m missing\u001b[38;5;241m.\u001b[39many():\n\u001b[1;32m     71\u001b[0m     missing_labels \u001b[38;5;241m=\u001b[39m [\n\u001b[1;32m     72\u001b[0m         lab \u001b[38;5;28;01mfor\u001b[39;00m lab, not_found \u001b[38;5;129;01min\u001b[39;00m \u001b[38;5;28mzip\u001b[39m(labels, missing) \u001b[38;5;28;01mif\u001b[39;00m not_found\n\u001b[1;32m     73\u001b[0m     ]\n\u001b[0;32m---> 74\u001b[0m     \u001b[38;5;28;01mraise\u001b[39;00m \u001b[38;5;167;01mKeyError\u001b[39;00m(\n\u001b[1;32m     75\u001b[0m         \u001b[38;5;124m\"\u001b[39m\u001b[38;5;124mThe following id_vars or value_vars are not present in \u001b[39m\u001b[38;5;124m\"\u001b[39m\n\u001b[1;32m     76\u001b[0m         \u001b[38;5;124mf\u001b[39m\u001b[38;5;124m\"\u001b[39m\u001b[38;5;124mthe DataFrame: \u001b[39m\u001b[38;5;132;01m{\u001b[39;00mmissing_labels\u001b[38;5;132;01m}\u001b[39;00m\u001b[38;5;124m\"\u001b[39m\n\u001b[1;32m     77\u001b[0m     )\n\u001b[1;32m     78\u001b[0m \u001b[38;5;28;01mif\u001b[39;00m value_vars_was_not_none:\n\u001b[1;32m     79\u001b[0m     frame \u001b[38;5;241m=\u001b[39m frame\u001b[38;5;241m.\u001b[39miloc[:, algos\u001b[38;5;241m.\u001b[39munique(idx)]\n",
      "\u001b[0;31mKeyError\u001b[0m: \"The following id_vars or value_vars are not present in the DataFrame: ['UnempRate2020', 'UnempRate2019', 'UnempRate2018', 'UnempRate2017', 'UnempRate2016', 'UnempRate2015', 'UnempRate2014', 'UnempRate2013', 'UnempRate2012', 'UnempRate2011', 'UnempRate2010', 'UnempRate2009', 'UnempRate2008', 'UnempRate2007']\""
     ]
    }
   ],
   "source": [
    "df = pd.DataFrame(jobs_cleaned_df)\n",
    "\n",
    "# Melt the DataFrame to get the desired format\n",
    "df_melted = df.melt(id_vars=['FIPS', 'State', 'County'],\n",
    "                   value_vars=['UnempRate2020', 'UnempRate2019', 'UnempRate2018', 'UnempRate2017', 'UnempRate2016', 'UnempRate2015', 'UnempRate2014', 'UnempRate2013', 'UnempRate2012', 'UnempRate2011', 'UnempRate2010', 'UnempRate2009', 'UnempRate2008', 'UnempRate2007'],\n",
    "                   var_name='YEAR', value_name='UNEMPRATE')\n",
    "# Map the 'YEAR' column to the actual years\n",
    "df_melted['YEAR'] = df_melted['YEAR'].str.replace('UnempRate', '')\n",
    "df_melted['YEAR'] = df_melted['YEAR'].astype(int)\n",
    "\n",
    "# Display the resulting DataFrame\n",
    "print(df_melted)"
   ]
  },
  {
   "cell_type": "code",
   "execution_count": null,
   "id": "2d9a79a8-506d-428c-ab7c-5c9c2e8f4bab",
   "metadata": {},
   "outputs": [],
   "source": []
  },
  {
   "cell_type": "code",
   "execution_count": null,
   "id": "b4933056-8fd2-4d3e-ab00-4e586cc38050",
   "metadata": {},
   "outputs": [],
   "source": []
  },
  {
   "cell_type": "code",
   "execution_count": null,
   "id": "b96e9546-2541-412e-925d-a1e4a20f15b6",
   "metadata": {},
   "outputs": [],
   "source": []
  },
  {
   "cell_type": "code",
   "execution_count": null,
   "id": "8d1c59d4-10c2-454c-b7d7-1f42ae943d93",
   "metadata": {},
   "outputs": [],
   "source": []
  },
  {
   "cell_type": "code",
   "execution_count": null,
   "id": "83fc5d8e-7613-44a8-a0d2-ccfba4824316",
   "metadata": {},
   "outputs": [],
   "source": []
  },
  {
   "cell_type": "code",
   "execution_count": null,
   "id": "a106dbf2-cfc7-4ff6-b55c-6741e88b1bcb",
   "metadata": {},
   "outputs": [],
   "source": []
  },
  {
   "cell_type": "code",
   "execution_count": null,
   "id": "c54fca19-2297-4cf9-aecb-e7d9a5358e82",
   "metadata": {},
   "outputs": [],
   "source": [
    "base_path = r'C:\\Users\\laura\\OneDrive\\Desktop\\Boothcamps\\April_ds_boothcamp\\projects\\project_3_group_12\\Project-3---Web-Application-Data-Analytics\\archive (1)'"
   ]
  },
  {
   "cell_type": "code",
   "execution_count": null,
   "id": "02833867-4a1e-4cbb-a222-5ff3befc5b33",
   "metadata": {},
   "outputs": [],
   "source": [
    "# Set file paths\n",
    "county_classifications_path = os.path.join(base_path, 'County Classifications.csv')\n",
    "income_path = os.path.join(base_path, 'Income.csv')\n",
    "jobs_path = os.path.join(base_path, 'Jobs.csv')\n",
    "people_path = os.path.join(base_path, 'People.csv')\n",
    "rural_atlas_data_path = os.path.join(base_path, 'RuralAtlasData23.xlsx')\n",
    "variable_name_lookup_path = os.path.join(base_path, 'Variable Name Lookup.csv')\n",
    "veterans_path = os.path.join(base_path, 'Veterans.csv')"
   ]
  },
  {
   "cell_type": "code",
   "execution_count": null,
   "id": "9dc98ed2-360d-4660-a5d2-808af3139236",
   "metadata": {},
   "outputs": [],
   "source": [
    "# Load the datasets\n",
    "county_classifications = pd.read_csv(county_classifications_path, encoding='ISO-8859-1')\n",
    "income = pd.read_csv(income_path)\n",
    "jobs = pd.read_csv(jobs_path)\n",
    "people = pd.read_csv(people_path)\n",
    "rural_atlas_data = pd.read_excel(rural_atlas_data_path)\n",
    "variable_name_lookup = pd.read_csv(variable_name_lookup_path)\n",
    "veterans = pd.read_csv(veterans_path)"
   ]
  },
  {
   "cell_type": "code",
   "execution_count": null,
   "id": "b74a0afd-b3c9-46c5-972c-8e6065d234cc",
   "metadata": {},
   "outputs": [],
   "source": [
    "# Dictionary to store datasets for easy looping\n",
    "datasets = {\n",
    "    \"County Classifications\": county_classifications,\n",
    "    \"Income\": income,\n",
    "    \"Jobs\": jobs,\n",
    "    \"People\": people,\n",
    "    \"Rural Atlas Data\": rural_atlas_data,\n",
    "    \"Variable Name Lookup\": variable_name_lookup,\n",
    "    \"Veterans\": veterans\n",
    "}"
   ]
  },
  {
   "cell_type": "code",
   "execution_count": null,
   "id": "e780f334-0416-48a3-b488-5585d06a0132",
   "metadata": {},
   "outputs": [],
   "source": [
    "# Basic Data Inspection\n",
    "for name, df in datasets.items():\n",
    "    print(f\"Dataset: {name}\")\n",
    "    print(f\"Shape: {df.shape}\")\n",
    "    print(f\"Columns: {df.columns.tolist()}\")\n",
    "    print(f\"Missing values:\\n{df.isnull().sum()}\")\n",
    "    print(\"\\n\")"
   ]
  },
  {
   "cell_type": "code",
   "execution_count": null,
   "id": "7cc373c1-14b2-4293-be85-a291832f42b5",
   "metadata": {},
   "outputs": [],
   "source": [
    "# Summary Statistics\n",
    "for name, df in datasets.items():\n",
    "    print(f\"Summary statistics for {name}:\")\n",
    "    print(df.describe())\n",
    "    print(\"\\n\")"
   ]
  },
  {
   "cell_type": "code",
   "execution_count": null,
   "id": "2cf25cd6-4e49-4ae1-925e-02658a23c4a6",
   "metadata": {},
   "outputs": [],
   "source": [
    "# Correlation Analysis\n",
    "for name, df in datasets.items():\n",
    "    # Select only numeric columns for correlation analysis\n",
    "    numeric_df = df.select_dtypes(include=['number'])\n",
    "    \n",
    "    if numeric_df.shape[1] > 1:  # Only plot if there are multiple numeric columns\n",
    "        plt.figure(figsize=(10, 8))\n",
    "        sns.heatmap(numeric_df.corr(), annot=True, cmap='coolwarm')\n",
    "        plt.title(f\"Correlation Matrix for {name}\")\n",
    "        plt.show()"
   ]
  },
  {
   "cell_type": "code",
   "execution_count": null,
   "id": "247b4da4-789f-4e02-848c-936fc6cff28c",
   "metadata": {},
   "outputs": [],
   "source": [
    "# Visualize Distributions\n",
    "for name, df in datasets.items():\n",
    "    numeric_df = df.select_dtypes(include=['number'])  # Select only numeric columns\n",
    "    if not numeric_df.empty:  # Check if there are any numeric columns to plot\n",
    "        numeric_df.hist(figsize=(15, 10), bins=30)\n",
    "        plt.suptitle(f\"Histograms for {name}\")\n",
    "        plt.show()\n",
    "    else:\n",
    "        print(f\"No numeric columns to plot histograms for {name}\")"
   ]
  },
  {
   "cell_type": "code",
   "execution_count": null,
   "id": "1a7bf262-24db-4995-89c5-cf8e54bdc3eb",
   "metadata": {},
   "outputs": [],
   "source": [
    "# Handling Categorical Variables\n",
    "for name, df in datasets.items():\n",
    "    for col in df.select_dtypes(include=['object']).columns:\n",
    "        print(f\"Value counts for {col} in {name}:\")\n",
    "        print(df[col].value_counts())\n",
    "        print(\"\\n\")"
   ]
  },
  {
   "cell_type": "code",
   "execution_count": null,
   "id": "3f88508c-c705-4580-9536-b673ecabb103",
   "metadata": {},
   "outputs": [],
   "source": [
    "# Attempt to load the file with different delimiters\n",
    "try:\n",
    "    # Attempt to load with tab delimiter\n",
    "    county_classifications = pd.read_csv(county_classifications_path, delimiter='\\t', encoding='ISO-8859-1')\n",
    "except:\n",
    "    print(\"Tab delimiter didn't work. Trying comma delimiter.\")\n",
    "    try:\n",
    "        # Attempt to load with comma delimiter\n",
    "        county_classifications = pd.read_csv(county_classifications_path, delimiter=',', encoding='ISO-8859-1')\n",
    "    except Exception as e:\n",
    "        print(\"Comma delimiter also failed. Please inspect the file format.\")\n",
    "        print(f\"Error: {e}\")\n",
    "\n",
    "# Display the first few rows to inspect if data loaded correctly\n",
    "print(county_classifications.head())\n",
    "print(county_classifications.columns)"
   ]
  },
  {
   "cell_type": "code",
   "execution_count": null,
   "id": "89eed430-aa01-4dc0-96f0-19974627a796",
   "metadata": {},
   "outputs": [],
   "source": [
    "# Saving Cleaned Data (Optional)\n",
    "for name, df in datasets.items():\n",
    "    df.to_csv(f'cleaned_{name}.csv', index=False)"
   ]
  },
  {
   "cell_type": "code",
   "execution_count": null,
   "id": "00bbe5bd-610c-45ad-bb2f-c135bf01d66b",
   "metadata": {},
   "outputs": [],
   "source": [
    "# Display the cleaned data for verification (First 5 rows of each)\n",
    "cleaned_files = {name: df.head() for name, df in datasets.items()}\n",
    "cleaned_files"
   ]
  },
  {
   "cell_type": "code",
   "execution_count": null,
   "id": "4ea6036c-eaa1-4bfc-924f-b418184831a2",
   "metadata": {},
   "outputs": [],
   "source": []
  },
  {
   "cell_type": "code",
   "execution_count": null,
   "id": "ebc7ff14-e90c-4988-99a0-febb7c07a2bc",
   "metadata": {},
   "outputs": [],
   "source": []
  }
 ],
 "metadata": {
  "kernelspec": {
   "display_name": "Python 3 (ipykernel)",
   "language": "python",
   "name": "python3"
  },
  "language_info": {
   "codemirror_mode": {
    "name": "ipython",
    "version": 3
   },
   "file_extension": ".py",
   "mimetype": "text/x-python",
   "name": "python",
   "nbconvert_exporter": "python",
   "pygments_lexer": "ipython3",
   "version": "3.10.14"
  }
 },
 "nbformat": 4,
 "nbformat_minor": 5
}
